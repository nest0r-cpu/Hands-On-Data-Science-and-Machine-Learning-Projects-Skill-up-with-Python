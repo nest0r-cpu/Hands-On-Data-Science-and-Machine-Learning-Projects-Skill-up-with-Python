{
 "cells": [
  {
   "cell_type": "code",
   "execution_count": 7,
   "id": "dcfc85cd-3dc7-4a27-9b22-86f4bc600788",
   "metadata": {},
   "outputs": [
    {
     "name": "stderr",
     "output_type": "stream",
     "text": [
      "[nltk_data] Downloading package vader_lexicon to\n",
      "[nltk_data]     C:\\Users\\Angel\\AppData\\Roaming\\nltk_data...\n",
      "[nltk_data] Downloading package subjectivity to\n",
      "[nltk_data]     C:\\Users\\Angel\\AppData\\Roaming\\nltk_data...\n",
      "[nltk_data]   Unzipping corpora\\subjectivity.zip.\n",
      "[nltk_data] Downloading package movie_reviews to\n",
      "[nltk_data]     C:\\Users\\Angel\\AppData\\Roaming\\nltk_data...\n",
      "[nltk_data]   Unzipping corpora\\movie_reviews.zip.\n"
     ]
    }
   ],
   "source": [
    "import nltk\n",
    "from nltk.sentiment import SentimentIntensityAnalyzer\n",
    "nltk.download('vader_lexicon')\n",
    "nltk.download('subjectivity')\n",
    "nltk.download('movie_reviews')\n",
    "\n",
    "sia = SentimentIntensityAnalyzer()"
   ]
  },
  {
   "cell_type": "code",
   "execution_count": 9,
   "id": "2d1c0ca9-42ea-400c-9042-8ffe9b7e30fa",
   "metadata": {},
   "outputs": [
    {
     "data": {
      "text/plain": [
       "{'neg': 0.0, 'neu': 1.0, 'pos': 0.0, 'compound': 0.0}"
      ]
     },
     "execution_count": 9,
     "metadata": {},
     "output_type": "execute_result"
    }
   ],
   "source": [
    "sia.polarity_scores('I am a human')"
   ]
  },
  {
   "cell_type": "code",
   "execution_count": 11,
   "id": "49a4b60a-2b46-4d57-abc8-35703205421f",
   "metadata": {},
   "outputs": [
    {
     "data": {
      "text/plain": [
       "{'neg': 1.0, 'neu': 0.0, 'pos': 0.0, 'compound': -0.6229}"
      ]
     },
     "execution_count": 11,
     "metadata": {},
     "output_type": "execute_result"
    }
   ],
   "source": [
    "sia.polarity_scores('Horrible!!')"
   ]
  },
  {
   "cell_type": "code",
   "execution_count": 15,
   "id": "f9efc011-cffd-4181-9143-e713ca847972",
   "metadata": {},
   "outputs": [
    {
     "data": {
      "text/plain": [
       "{'neg': 0.0, 'neu': 0.79, 'pos': 0.21, 'compound': 0.3384}"
      ]
     },
     "execution_count": 15,
     "metadata": {},
     "output_type": "execute_result"
    }
   ],
   "source": [
    "sia.polarity_scores('This company has done incredibly well over the past year')"
   ]
  },
  {
   "cell_type": "code",
   "execution_count": 17,
   "id": "0c54f83e-a897-4e2b-9b27-105fc91fdfb1",
   "metadata": {},
   "outputs": [
    {
     "data": {
      "text/plain": [
       "{'neg': 0.0, 'neu': 1.0, 'pos': 0.0, 'compound': 0.0}"
      ]
     },
     "execution_count": 17,
     "metadata": {},
     "output_type": "execute_result"
    }
   ],
   "source": [
    "sia.polarity_scores('This movie is incredible!')"
   ]
  },
  {
   "cell_type": "code",
   "execution_count": 19,
   "id": "40247aeb-2f56-49f5-a7a2-345747dec249",
   "metadata": {},
   "outputs": [
    {
     "data": {
      "text/plain": [
       "{'neg': 0.35, 'neu': 0.65, 'pos': 0.0, 'compound': -0.4015}"
      ]
     },
     "execution_count": 19,
     "metadata": {},
     "output_type": "execute_result"
    }
   ],
   "source": [
    "sia.polarity_scores('The economy has never been so good!')"
   ]
  },
  {
   "cell_type": "code",
   "execution_count": 21,
   "id": "731c4b7e-c0d5-4122-850a-ec4ef79ad3fe",
   "metadata": {},
   "outputs": [
    {
     "data": {
      "text/plain": [
       "{'neg': 0.35, 'neu': 0.65, 'pos': 0.0, 'compound': -0.4015}"
      ]
     },
     "execution_count": 21,
     "metadata": {},
     "output_type": "execute_result"
    }
   ],
   "source": [
    "sia.polarity_scores('The economy has never been good!')"
   ]
  },
  {
   "cell_type": "code",
   "execution_count": null,
   "id": "562f7962-8646-4425-b98a-511d1f2aea39",
   "metadata": {},
   "outputs": [],
   "source": []
  }
 ],
 "metadata": {
  "kernelspec": {
   "display_name": "Python 3 (ipykernel)",
   "language": "python",
   "name": "python3"
  },
  "language_info": {
   "codemirror_mode": {
    "name": "ipython",
    "version": 3
   },
   "file_extension": ".py",
   "mimetype": "text/x-python",
   "name": "python",
   "nbconvert_exporter": "python",
   "pygments_lexer": "ipython3",
   "version": "3.12.7"
  }
 },
 "nbformat": 4,
 "nbformat_minor": 5
}
